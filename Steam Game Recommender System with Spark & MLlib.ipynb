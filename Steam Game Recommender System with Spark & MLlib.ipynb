{
 "cells": [
  {
   "cell_type": "markdown",
   "metadata": {
    "application/vnd.databricks.v1+cell": {
     "cellMetadata": {
      "byteLimit": 2048000,
      "rowLimit": 10000
     },
     "inputWidgets": {},
     "nuid": "d50c6ffb-c2c8-419c-a99e-215a9de94914",
     "showTitle": false,
     "title": ""
    }
   },
   "source": [
    "#### Importating Necessary Libraries"
   ]
  },
  {
   "cell_type": "code",
   "execution_count": 0,
   "metadata": {
    "application/vnd.databricks.v1+cell": {
     "cellMetadata": {
      "byteLimit": 2048000,
      "rowLimit": 10000
     },
     "inputWidgets": {},
     "nuid": "1df28013-ee6f-4149-bc06-9d67d510484d",
     "showTitle": false,
     "title": ""
    }
   },
   "outputs": [],
   "source": [
    "# Import necessary libraries\n",
    "import numpy as np\n",
    "import pandas as pd\n",
    "import matplotlib.pyplot as plt\n",
    "import seaborn as sns\n",
    "import mlflow\n",
    "from pyspark.sql.functions import col, explode\n",
    "from pyspark.sql import SparkSession\n",
    "from pyspark.sql.window import Window\n",
    "from pyspark.sql import functions as F\n",
    "from pyspark.ml.feature import RFormula\n",
    "from pyspark.ml.recommendation import ALS\n",
    "from pyspark.ml.evaluation import RegressionEvaluator\n",
    "from pyspark.ml.tuning import ParamGridBuilder, CrossValidator\n",
    "mlflow.pyspark.ml.autolog()"
   ]
  },
  {
   "cell_type": "markdown",
   "metadata": {
    "application/vnd.databricks.v1+cell": {
     "cellMetadata": {
      "byteLimit": 2048000,
      "rowLimit": 10000
     },
     "inputWidgets": {},
     "nuid": "f21abf95-349d-4538-b9d7-c4e7634f0038",
     "showTitle": false,
     "title": ""
    }
   },
   "source": [
    "#### Creating SparkSession And Loading Dataset Into A Spark DataFrame"
   ]
  },
  {
   "cell_type": "code",
   "execution_count": 0,
   "metadata": {
    "application/vnd.databricks.v1+cell": {
     "cellMetadata": {
      "byteLimit": 2048000,
      "rowLimit": 10000
     },
     "inputWidgets": {},
     "nuid": "8fbd14c4-d386-46e6-9413-6e2542d926a5",
     "showTitle": false,
     "title": ""
    }
   },
   "outputs": [],
   "source": [
    "# Create a SparkSession\n",
    "spark = SparkSession.builder \\\n",
    "    .appName(\"Steam Recommender System\") \\\n",
    "    .getOrCreate()"
   ]
  },
  {
   "cell_type": "code",
   "execution_count": 0,
   "metadata": {
    "application/vnd.databricks.v1+cell": {
     "cellMetadata": {
      "byteLimit": 2048000,
      "rowLimit": 10000
     },
     "inputWidgets": {},
     "nuid": "2af9211d-0aa0-4fb6-b3ac-1ea04deb7eb3",
     "showTitle": false,
     "title": ""
    }
   },
   "outputs": [],
   "source": [
    "# Load the dataset into a Spark DataFrame with header and inferring schema\n",
    "steam_df = spark.read.csv(\"dbfs:/FileStore/tables/steam_200k.csv\", header=True, inferSchema=True) \\\n",
    "                .toDF(\"UserID\", \"game_name\", \"User_Behavior\", \"Hours_Played\")\n"
   ]
  },
  {
   "cell_type": "code",
   "execution_count": 0,
   "metadata": {
    "application/vnd.databricks.v1+cell": {
     "cellMetadata": {
      "byteLimit": 2048000,
      "rowLimit": 10000
     },
     "inputWidgets": {},
     "nuid": "ca305e63-20a0-405a-9e2b-6165a9ca1d9e",
     "showTitle": false,
     "title": ""
    }
   },
   "outputs": [
    {
     "output_type": "stream",
     "name": "stdout",
     "output_type": "stream",
     "text": [
      "root\n |-- UserID: integer (nullable = true)\n |-- game_name: string (nullable = true)\n |-- User_Behavior: string (nullable = true)\n |-- Hours_Played: double (nullable = true)\n\n+---------+--------------------+-------------+------------+\n|   UserID|           game_name|User_Behavior|Hours_Played|\n+---------+--------------------+-------------+------------+\n|151603712|The Elder Scrolls...|         play|       273.0|\n|151603712|           Fallout 4|     purchase|         1.0|\n|151603712|           Fallout 4|         play|        87.0|\n|151603712|               Spore|     purchase|         1.0|\n|151603712|               Spore|         play|        14.9|\n+---------+--------------------+-------------+------------+\nonly showing top 5 rows\n\n"
     ]
    }
   ],
   "source": [
    "# Show the schema and first few rows of the DataFrame\n",
    "steam_df.printSchema()\n",
    "steam_df.show(5)\n"
   ]
  },
  {
   "cell_type": "code",
   "execution_count": 0,
   "metadata": {
    "application/vnd.databricks.v1+cell": {
     "cellMetadata": {
      "byteLimit": 2048000,
      "rowLimit": 10000
     },
     "inputWidgets": {},
     "nuid": "1687b9d5-576c-4868-ba9b-7b186c5b42fb",
     "showTitle": false,
     "title": ""
    }
   },
   "outputs": [
    {
     "output_type": "stream",
     "name": "stdout",
     "output_type": "stream",
     "text": [
      "Summary statistics of numerical columns:\n+-------+--------------------+----------------+-------------+------------------+\n|summary|              UserID|       game_name|User_Behavior|      Hours_Played|\n+-------+--------------------+----------------+-------------+------------------+\n|  count|              199999|          199999|       199999|            199999|\n|   mean|1.0365562620621103E8|           140.0|         NULL|17.874468372341777|\n| stddev|  7.20808355946763E7|             0.0|         NULL| 138.0572916399091|\n|    min|                5250|     007 Legends|         play|               0.1|\n|    max|           309903146|theHunter Primal|     purchase|           11754.0|\n+-------+--------------------+----------------+-------------+------------------+\n\n"
     ]
    }
   ],
   "source": [
    "# Summary statistics of numerical columns\n",
    "print(\"Summary statistics of numerical columns:\")\n",
    "steam_df.describe().show()"
   ]
  },
  {
   "cell_type": "code",
   "execution_count": 0,
   "metadata": {
    "application/vnd.databricks.v1+cell": {
     "cellMetadata": {
      "byteLimit": 2048000,
      "rowLimit": 10000
     },
     "inputWidgets": {},
     "nuid": "d7daf593-46e6-40b3-bbff-ba9ef6a8bc93",
     "showTitle": false,
     "title": ""
    }
   },
   "outputs": [],
   "source": [
    "# Filter the dataset to include only 'play' behavior\n",
    "play_data = steam_df.filter(steam_df['User_Behavior'] == 'play').select('Hours_Played')\n"
   ]
  },
  {
   "cell_type": "code",
   "execution_count": 0,
   "metadata": {
    "application/vnd.databricks.v1+cell": {
     "cellMetadata": {
      "byteLimit": 2048000,
      "rowLimit": 10000
     },
     "inputWidgets": {},
     "nuid": "dac98ccc-ba1d-4337-bded-39796922d62c",
     "showTitle": false,
     "title": ""
    }
   },
   "outputs": [
    {
     "output_type": "stream",
     "name": "stdout",
     "output_type": "stream",
     "text": [
      "+------------+\n|Hours_Played|\n+------------+\n|       273.0|\n|        87.0|\n|        14.9|\n|        12.1|\n|         8.9|\n+------------+\nonly showing top 5 rows\n\n"
     ]
    }
   ],
   "source": [
    "# Show 5 play_data\n",
    "play_data.show(5)"
   ]
  },
  {
   "cell_type": "markdown",
   "metadata": {
    "application/vnd.databricks.v1+cell": {
     "cellMetadata": {
      "byteLimit": 2048000,
      "rowLimit": 10000
     },
     "inputWidgets": {},
     "nuid": "00c23b93-6f1b-4f44-82a5-2c58d8d9b356",
     "showTitle": false,
     "title": ""
    }
   },
   "source": [
    "#### Data Exploration"
   ]
  },
  {
   "cell_type": "code",
   "execution_count": 0,
   "metadata": {
    "application/vnd.databricks.v1+cell": {
     "cellMetadata": {
      "byteLimit": 2048000,
      "rowLimit": 10000
     },
     "inputWidgets": {},
     "nuid": "4dbf88c8-2096-4185-b262-21a6ef95f2ac",
     "showTitle": false,
     "title": ""
    }
   },
   "outputs": [
    {
     "output_type": "display_data",
     "data": {
      "image/png": "[encoded data removed]",
      "text/plain": [
       "<Figure size 640x480 with 1 Axes>"
      ]
     },
     "metadata": {},
     "output_type": "display_data"
    }
   ],
   "source": [
    "# Histogram of play hours\n",
    "plt.hist(play_data.toPandas()['Hours_Played'], bins=15, color='red', edgecolor='black')\n",
    "plt.xlabel('Hours Played', fontsize=9)\n",
    "plt.ylabel('Frequency')\n",
    "plt.title('Distribution of Play Hours')\n",
    "plt.show()"
   ]
  },
  {
   "cell_type": "code",
   "execution_count": 0,
   "metadata": {
    "application/vnd.databricks.v1+cell": {
     "cellMetadata": {
      "byteLimit": 2048000,
      "rowLimit": 10000
     },
     "inputWidgets": {},
     "nuid": "cf09ea32-767f-434d-9949-e567913366a8",
     "showTitle": false,
     "title": ""
    }
   },
   "outputs": [
    {
     "output_type": "display_data",
     "data": {
      "image/png": "[encoded data removed]",
      "text/plain": [
       "<Figure size 1000x600 with 1 Axes>"
      ]
     },
     "metadata": {},
     "output_type": "display_data"
    }
   ],
   "source": [
    "# Top N Games Played\n",
    "top_n = 10\n",
    "top_games = steam_df.groupBy('Game_Name').count().orderBy('count', ascending=False).limit(top_n).toPandas()\n",
    "\n",
    "plt.figure(figsize=(10, 6))\n",
    "sns.barplot(x='Game_Name', y='count', data=top_games, palette='viridis')\n",
    "plt.xlabel('Game Name')\n",
    "plt.ylabel('Number of Hours Played')\n",
    "plt.title(f'Top {top_n} Most Played Games')\n",
    "plt.xticks(rotation=45)\n",
    "plt.show()"
   ]
  },
  {
   "cell_type": "code",
   "execution_count": 0,
   "metadata": {
    "application/vnd.databricks.v1+cell": {
     "cellMetadata": {
      "byteLimit": 2048000,
      "rowLimit": 10000
     },
     "inputWidgets": {},
     "nuid": "90231d58-ac41-4b51-b6f0-121a8fcb86e2",
     "showTitle": false,
     "title": ""
    }
   },
   "outputs": [
    {
     "output_type": "display_data",
     "data": {
      "image/png": "[encoded data removed]",
      "text/plain": [
       "<Figure size 800x600 with 1 Axes>"
      ]
     },
     "metadata": {},
     "output_type": "display_data"
    }
   ],
   "source": [
    "# Boxplot of Hours Played by User Behavior\n",
    "plt.figure(figsize=(8, 6))\n",
    "sns.boxplot(x='User_Behavior', y='Hours_Played', data=steam_df.toPandas(), palette='Set3')\n",
    "plt.xlabel('User Behavior')\n",
    "plt.ylabel('Hours Played')\n",
    "plt.title('Distribution of Hours Played by User Behavior')\n",
    "plt.show()\n"
   ]
  },
  {
   "cell_type": "markdown",
   "metadata": {
    "application/vnd.databricks.v1+cell": {
     "cellMetadata": {
      "byteLimit": 2048000,
      "rowLimit": 10000
     },
     "inputWidgets": {},
     "nuid": "9d6d1853-ac15-4722-b5fd-ae801fad5775",
     "showTitle": false,
     "title": ""
    }
   },
   "source": [
    "####  Preprocessing The Data"
   ]
  },
  {
   "cell_type": "code",
   "execution_count": 0,
   "metadata": {
    "application/vnd.databricks.v1+cell": {
     "cellMetadata": {
      "byteLimit": 2048000,
      "rowLimit": 10000
     },
     "inputWidgets": {},
     "nuid": "c3c1891e-8f2e-44cb-bb89-13725287c69f",
     "showTitle": false,
     "title": ""
    }
   },
   "outputs": [],
   "source": [
    "# Generating unique integer IDs for games based on game names\n",
    "\n",
    "# Create a window specification\n",
    "windowSpec = Window.orderBy(\"game_name\")\n",
    "\n",
    "# Add a row number column\n",
    "game_id = steam_df.select('game_name').distinct().withColumn(\"game_id\", F.row_number().over(windowSpec))\n"
   ]
  },
  {
   "cell_type": "code",
   "execution_count": 0,
   "metadata": {
    "application/vnd.databricks.v1+cell": {
     "cellMetadata": {
      "byteLimit": 2048000,
      "rowLimit": 10000
     },
     "inputWidgets": {},
     "nuid": "fa25da2b-f9f8-43ee-a489-ec1d07738406",
     "showTitle": false,
     "title": ""
    }
   },
   "outputs": [
    {
     "output_type": "stream",
     "name": "stdout",
     "output_type": "stream",
     "text": [
      "+--------------------+-------+\n|           game_name|game_id|\n+--------------------+-------+\n|         007 Legends|      1|\n|           0RBITALIS|      2|\n|1... 2... 3... KI...|      3|\n|     10 Second Ninja|      4|\n|          10,000,000|      5|\n+--------------------+-------+\nonly showing top 5 rows\n\n"
     ]
    }
   ],
   "source": [
    "# Show the DataFrame with added game IDs\n",
    "game_id.show(5)"
   ]
  },
  {
   "cell_type": "code",
   "execution_count": 0,
   "metadata": {
    "application/vnd.databricks.v1+cell": {
     "cellMetadata": {
      "byteLimit": 2048000,
      "rowLimit": 10000
     },
     "inputWidgets": {},
     "nuid": "40a84d48-a417-42e1-8805-1cf05a204a9d",
     "showTitle": false,
     "title": ""
    }
   },
   "outputs": [
    {
     "output_type": "stream",
     "name": "stdout",
     "output_type": "stream",
     "text": [
      "root\n |-- game_name: string (nullable = true)\n |-- UserID: integer (nullable = true)\n |-- User_Behavior: string (nullable = true)\n |-- Hours_Played: double (nullable = true)\n |-- game_id: integer (nullable = true)\n\n"
     ]
    }
   ],
   "source": [
    "# Join the game IDs with the original DataFrame\n",
    "steam_df_with_ids = steam_df.join(game_id, on='game_name', how='left')\n",
    "\n",
    "\n",
    "# Print the schema of the DataFrame with added game IDs\n",
    "steam_df_with_ids.printSchema()\n"
   ]
  },
  {
   "cell_type": "code",
   "execution_count": 0,
   "metadata": {
    "application/vnd.databricks.v1+cell": {
     "cellMetadata": {
      "byteLimit": 2048000,
      "rowLimit": 10000
     },
     "inputWidgets": {},
     "nuid": "30845392-8e05-42cd-ab4a-8dbc0ac028ad",
     "showTitle": false,
     "title": ""
    }
   },
   "outputs": [],
   "source": [
    "# Handle missing values\n",
    "training_data = steam_df_with_ids.na.drop(subset=[\"UserID\", \"game_id\", \"Hours_Played\"])"
   ]
  },
  {
   "cell_type": "code",
   "execution_count": 0,
   "metadata": {
    "application/vnd.databricks.v1+cell": {
     "cellMetadata": {
      "byteLimit": 2048000,
      "rowLimit": 10000
     },
     "inputWidgets": {},
     "nuid": "8fe64c6e-37da-480d-978a-381cb0fa6f9e",
     "showTitle": false,
     "title": ""
    }
   },
   "outputs": [
    {
     "output_type": "stream",
     "name": "stderr",
     "output_type": "stream",
     "text": [
      "2024/05/01 19:49:27 INFO mlflow.utils.autologging_utils: Created MLflow autologging run with ID 'f4ca0d21791d4701a2d6cbf870cd7bda', which will track hyperparameters, performance metrics, model artifacts, and lineage information for the current pyspark.ml workflow\n"
     ]
    },
    {
     "output_type": "stream",
     "name": "stdout",
     "output_type": "stream",
     "text": [
      "+--------------------+---------+-------------+------------+-------+--------------------+-----+\n|           game_name|   UserID|User_Behavior|Hours_Played|game_id|            features|label|\n+--------------------+---------+-------------+------------+-------+--------------------+-----+\n|The Elder Scrolls...|151603712|         play|       273.0|   4365|(5157,[8,5154,515...|  1.0|\n|           Fallout 4|151603712|     purchase|         1.0|   1679|(5157,[100,5154,5...|  0.0|\n|           Fallout 4|151603712|         play|        87.0|   1679|(5157,[100,5154,5...|  1.0|\n|               Spore|151603712|     purchase|         1.0|   3998|(5157,[332,5154,5...|  0.0|\n|               Spore|151603712|         play|        14.9|   3998|(5157,[332,5154,5...|  1.0|\n+--------------------+---------+-------------+------------+-------+--------------------+-----+\nonly showing top 5 rows\n\n"
     ]
    }
   ],
   "source": [
    "# Preprocess data into correct format\n",
    "preprocess = RFormula(formula=\"User_Behavior ~ .\")\n",
    "steam_df_with_ids = preprocess.fit(steam_df_with_ids).transform(steam_df_with_ids)\n",
    "steam_df_with_ids.show(5)"
   ]
  },
  {
   "cell_type": "code",
   "execution_count": 0,
   "metadata": {
    "application/vnd.databricks.v1+cell": {
     "cellMetadata": {
      "byteLimit": 2048000,
      "rowLimit": 10000
     },
     "inputWidgets": {},
     "nuid": "185446e2-1c9a-4eea-be3c-1fcc5747ef71",
     "showTitle": false,
     "title": ""
    }
   },
   "outputs": [],
   "source": [
    "# Selecting Game name and ID for recommendation\n",
    "game_rec =  steam_df_with_ids.select(\"game_name\", \"game_id\")"
   ]
  },
  {
   "cell_type": "code",
   "execution_count": 0,
   "metadata": {
    "application/vnd.databricks.v1+cell": {
     "cellMetadata": {
      "byteLimit": 2048000,
      "rowLimit": 10000
     },
     "inputWidgets": {},
     "nuid": "85637198-dd87-488c-933e-f3803104025e",
     "showTitle": false,
     "title": ""
    }
   },
   "outputs": [],
   "source": [
    "# Filter the dataset to include only 'play' behavior\n",
    "play_data = steam_df_with_ids.filter(steam_df_with_ids['User_Behavior'] == 'play')\n"
   ]
  },
  {
   "cell_type": "code",
   "execution_count": 0,
   "metadata": {
    "application/vnd.databricks.v1+cell": {
     "cellMetadata": {
      "byteLimit": 2048000,
      "rowLimit": 10000
     },
     "inputWidgets": {},
     "nuid": "43b30e87-2563-44d7-9e2d-40d5a65ceafc",
     "showTitle": false,
     "title": ""
    }
   },
   "outputs": [
    {
     "output_type": "stream",
     "name": "stdout",
     "output_type": "stream",
     "text": [
      "+------+---------+-------------+------------+\n|UserID|game_name|User_Behavior|Hours_Played|\n+------+---------+-------------+------------+\n|     0|        0|            0|           0|\n+------+---------+-------------+------------+\n\n"
     ]
    }
   ],
   "source": [
    "# Checking for missing values\n",
    "steam_df_with_ids.select([F.count(F.when(F.isnan(c) | F.isnull(c), c)).alias(c) for c in steam_df.columns]).show()\n"
   ]
  },
  {
   "cell_type": "code",
   "execution_count": 0,
   "metadata": {
    "application/vnd.databricks.v1+cell": {
     "cellMetadata": {
      "byteLimit": 2048000,
      "rowLimit": 10000
     },
     "inputWidgets": {},
     "nuid": "4b1fa69a-6134-4aab-8092-d677009ed823",
     "showTitle": false,
     "title": ""
    }
   },
   "outputs": [],
   "source": [
    "# Arrange in the correct format\n",
    "play_data_format = play_data.select(\"UserID\", \"game_id\", \"Hours_Played\")"
   ]
  },
  {
   "cell_type": "code",
   "execution_count": 0,
   "metadata": {
    "application/vnd.databricks.v1+cell": {
     "cellMetadata": {
      "byteLimit": 2048000,
      "rowLimit": 10000
     },
     "inputWidgets": {},
     "nuid": "2d5212a4-2c44-40cc-9e11-e170312582d6",
     "showTitle": false,
     "title": ""
    }
   },
   "outputs": [
    {
     "output_type": "stream",
     "name": "stdout",
     "output_type": "stream",
     "text": [
      "+---------+-------+------------+\n|   UserID|game_id|Hours_Played|\n+---------+-------+------------+\n|151603712|   3998|        14.9|\n|151603712|   1680|        12.1|\n|151603712|   2476|         8.9|\n|151603712|   2194|         8.5|\n|151603712|   3115|         8.1|\n|151603712|   3214|         7.5|\n|151603712|   2475|         3.3|\n|151603712|   4258|         2.8|\n|151603712|   4645|         2.5|\n|151603712|   4306|         2.0|\n|151603712|   1141|         1.4|\n|151603712|    523|         1.3|\n|151603712|   1360|         1.3|\n|151603712|   1675|         0.8|\n|151603712|   3629|         0.8|\n|151603712|   1977|         0.6|\n|151603712|   3451|         0.5|\n|151603712|   2657|         0.5|\n|151603712|   1473|         0.5|\n|151603712|   1337|         0.5|\n+---------+-------+------------+\nonly showing top 20 rows\n\n"
     ]
    }
   ],
   "source": [
    "# Calculate quartiles\n",
    "quantiles = play_data_format.approxQuantile('Hours_Played', [0.25, 0.75], 0.05)\n",
    " \n",
    "# Calculate IQR\n",
    "q1 = quantiles[0]\n",
    "q3 = quantiles[1]\n",
    "iqr = q3 - q1\n",
    " \n",
    "# Define lower and upper bounds for outlier detection\n",
    "lower_bound = q1 - (1.5 * iqr)\n",
    "upper_bound = q3 + (1.5 * iqr)\n",
    " \n",
    "# Filter out rows outside the lower and upper bounds\n",
    "steamplay_df_without_outliers = play_data_format.filter((col('Hours_Played') >= lower_bound) & (col('Hours_Played') <= upper_bound))\n",
    " \n",
    "# Show the cleaned DataFrame\n",
    "steamplay_df_without_outliers.show()\n"
   ]
  },
  {
   "cell_type": "code",
   "execution_count": 0,
   "metadata": {
    "application/vnd.databricks.v1+cell": {
     "cellMetadata": {
      "byteLimit": 2048000,
      "rowLimit": 10000
     },
     "inputWidgets": {},
     "nuid": "25411dbe-b412-400d-b151-c1cfe850369f",
     "showTitle": false,
     "title": ""
    }
   },
   "outputs": [
    {
     "output_type": "display_data",
     "data": {
      "image/png": "[encoded data removed]",
      "text/plain": [
       "<Figure size 640x480 with 1 Axes>"
      ]
     },
     "metadata": {},
     "output_type": "display_data"
    }
   ],
   "source": [
    "# Plot Histogram to show steamplay_df_without_outliers\n",
    "plt.hist(steamplay_df_without_outliers.toPandas()['Hours_Played'], bins=20, color='blue', edgecolor='black')\n",
    "plt.xlabel('Hours Played', fontsize=12)\n",
    "plt.ylabel('Frequency')\n",
    "plt.title('Distribution of Play Hours (Without Outliers)')\n",
    "plt.show()"
   ]
  },
  {
   "cell_type": "markdown",
   "metadata": {
    "application/vnd.databricks.v1+cell": {
     "cellMetadata": {
      "byteLimit": 2048000,
      "rowLimit": 10000
     },
     "inputWidgets": {},
     "nuid": "f98a4c61-5acc-49a3-9c00-a178da5b6eba",
     "showTitle": false,
     "title": ""
    }
   },
   "source": [
    "#### Training the data set"
   ]
  },
  {
   "cell_type": "code",
   "execution_count": 0,
   "metadata": {
    "application/vnd.databricks.v1+cell": {
     "cellMetadata": {
      "byteLimit": 2048000,
      "rowLimit": 10000
     },
     "inputWidgets": {},
     "nuid": "c79a106c-5c82-4903-8423-78af91b32389",
     "showTitle": false,
     "title": ""
    }
   },
   "outputs": [],
   "source": [
    "# Split the data into training and testing sets (80% training, 20% test)\n",
    "(training_data, testing_data) = steamplay_df_without_outliers.randomSplit([0.8, 0.2])"
   ]
  },
  {
   "cell_type": "code",
   "execution_count": 0,
   "metadata": {
    "application/vnd.databricks.v1+cell": {
     "cellMetadata": {
      "byteLimit": 2048000,
      "rowLimit": 10000
     },
     "inputWidgets": {},
     "nuid": "a58bd97d-1dff-409c-959d-301ddbd5aaab",
     "showTitle": false,
     "title": ""
    }
   },
   "outputs": [],
   "source": [
    "# Initialize the ALS model\n",
    "als = ALS(maxIter=10, regParam=0.1, userCol=\"UserID\", itemCol=\"game_id\", ratingCol=\"Hours_Played\", seed=100, nonnegative=True)"
   ]
  },
  {
   "cell_type": "code",
   "execution_count": 0,
   "metadata": {
    "application/vnd.databricks.v1+cell": {
     "cellMetadata": {
      "byteLimit": 2048000,
      "rowLimit": 10000
     },
     "inputWidgets": {},
     "nuid": "6a8bc213-4f18-4bd6-81d0-d5589b56a254",
     "showTitle": false,
     "title": ""
    }
   },
   "outputs": [
    {
     "output_type": "stream",
     "name": "stderr",
     "output_type": "stream",
     "text": [
      "2024/05/01 19:49:48 INFO mlflow.utils.autologging_utils: Created MLflow autologging run with ID '9c4d346d80234dd2bd87b57e909515dc', which will track hyperparameters, performance metrics, model artifacts, and lineage information for the current pyspark.ml workflow\n2024/05/01 19:49:50 WARNING mlflow.utils.autologging_utils: MLflow autologging encountered a warning: \"/databricks/python/lib/python3.11/site-packages/mlflow/types/utils.py:393: UserWarning: Hint: Inferred schema contains integer column(s). Integer columns in Python cannot represent missing values. If your input data contains missing values at inference time, it will be encoded as floats and will cause a schema enforcement error. The best way to avoid this problem is to infer the model schema based on a realistic data sample (training dataset) that includes missing values. Alternatively, you can declare integer columns as doubles (float64) whenever these columns may have missing values. See `Handling Integers With Missing Values <https://www.mlflow.org/docs/latest/models.html#handling-integers-with-missing-values>`_ for more details.\"\n2024/05/01 19:50:29 WARNING mlflow.pyspark.ml: Model ALS_e6d4754f9a21 will not be autologged because it is not allowlisted or or because one or more of its nested models are not allowlisted. Call mlflow.spark.log_model() to explicitly log the model, or specify a custom allowlist via the spark.mlflow.pysparkml.autolog.logModelAllowlistFile Spark conf (see mlflow.pyspark.ml.autolog docs for more info).\n"
     ]
    }
   ],
   "source": [
    "# Train the model\n",
    "model = als.fit(training_data)"
   ]
  },
  {
   "cell_type": "code",
   "execution_count": 0,
   "metadata": {
    "application/vnd.databricks.v1+cell": {
     "cellMetadata": {
      "byteLimit": 2048000,
      "rowLimit": 10000
     },
     "inputWidgets": {},
     "nuid": "61ecb025-2570-411a-8f98-6033aea40b71",
     "showTitle": false,
     "title": ""
    }
   },
   "outputs": [],
   "source": [
    "# Make predictions on the testing data\n",
    "predictions = model.transform(testing_data).dropna()"
   ]
  },
  {
   "cell_type": "code",
   "execution_count": 0,
   "metadata": {
    "application/vnd.databricks.v1+cell": {
     "cellMetadata": {
      "byteLimit": 2048000,
      "rowLimit": 10000
     },
     "inputWidgets": {},
     "nuid": "c73ddf23-58a5-4b92-b1e2-4c1c057b6905",
     "showTitle": false,
     "title": ""
    }
   },
   "outputs": [
    {
     "output_type": "stream",
     "name": "stdout",
     "output_type": "stream",
     "text": [
      "+------+-------+------------+----------+\n|UserID|game_id|Hours_Played|prediction|\n+------+-------+------------+----------+\n|  5250|   1337|         0.2| 0.6859814|\n|  5250|   3224|        13.6| 2.3606462|\n| 76767|    228|         0.8| 6.5217047|\n| 76767|    985|        25.0| 3.8166955|\n| 76767|   4493|         1.8| 2.4235954|\n| 76767|   4546|         3.4| 7.8114495|\n|298950|    258|         7.0|   8.95107|\n|298950|    443|         0.6| 11.106953|\n|298950|    480|         0.4| 5.1175213|\n|298950|    523|        21.0| 7.3012133|\n|298950|    619|         8.3| 7.4741015|\n|298950|    669|         0.6|  3.849184|\n|298950|   1672|         0.3| 2.1783807|\n|298950|   1860|         2.7|  6.991619|\n|298950|   1944|         1.1| 5.7292275|\n|298950|   2346|         0.6| 3.1652093|\n|298950|   2376|         5.9|  11.04566|\n|298950|   2669|         3.4| 12.641113|\n|298950|   2716|         9.8| 12.088427|\n|298950|   3075|         0.2|  8.153814|\n+------+-------+------------+----------+\nonly showing top 20 rows\n\n"
     ]
    }
   ],
   "source": [
    "#Display Predictions\n",
    "predictions.show()"
   ]
  },
  {
   "cell_type": "code",
   "execution_count": 0,
   "metadata": {
    "application/vnd.databricks.v1+cell": {
     "cellMetadata": {
      "byteLimit": 2048000,
      "rowLimit": 10000
     },
     "inputWidgets": {},
     "nuid": "df94779f-3700-4568-b026-5778da5fc549",
     "showTitle": false,
     "title": ""
    }
   },
   "outputs": [
    {
     "output_type": "stream",
     "name": "stdout",
     "output_type": "stream",
     "text": [
      "Root Mean Squared Error (RMSE) = 9.336557834147646\n"
     ]
    }
   ],
   "source": [
    "# Evaluate the model using RMSE\n",
    "evaluator = RegressionEvaluator(metricName=\"rmse\", labelCol=\"Hours_Played\", predictionCol=\"prediction\")\n",
    "rmse = evaluator.evaluate(predictions)\n",
    "print(\"Root Mean Squared Error (RMSE) = \" + str(rmse))"
   ]
  },
  {
   "cell_type": "code",
   "execution_count": 0,
   "metadata": {
    "application/vnd.databricks.v1+cell": {
     "cellMetadata": {
      "byteLimit": 2048000,
      "rowLimit": 10000
     },
     "inputWidgets": {},
     "nuid": "b068c222-598d-401e-8d05-7d59ec49c7f0",
     "showTitle": false,
     "title": ""
    }
   },
   "outputs": [],
   "source": [
    "# Evaluate the model using Cross-Validation\n",
    "\n",
    "# Define the ALS model\n",
    "als = ALS(maxIter=10, regParam=0.1, userCol=\"UserID\", itemCol=\"game_id\", ratingCol=\"Hours_Played\", seed=100, nonnegative=True)"
   ]
  },
  {
   "cell_type": "code",
   "execution_count": 0,
   "metadata": {
    "application/vnd.databricks.v1+cell": {
     "cellMetadata": {
      "byteLimit": 2048000,
      "rowLimit": 10000
     },
     "inputWidgets": {},
     "nuid": "b2a1c97c-2d3d-462f-b256-425618c56bb9",
     "showTitle": false,
     "title": ""
    }
   },
   "outputs": [],
   "source": [
    "# Define the parameter grid for cross-validation\n",
    "paramGrid = ParamGridBuilder() \\\n",
    "    .addGrid(als.rank, [10, 20, 30]) \\\n",
    "    .addGrid(als.regParam, [0.05, 0.1, 0.2]) \\\n",
    "    .build()"
   ]
  },
  {
   "cell_type": "code",
   "execution_count": 0,
   "metadata": {
    "application/vnd.databricks.v1+cell": {
     "cellMetadata": {
      "byteLimit": 2048000,
      "rowLimit": 10000
     },
     "inputWidgets": {},
     "nuid": "d08743ff-610b-4751-8510-97f6ad3ba781",
     "showTitle": false,
     "title": ""
    }
   },
   "outputs": [],
   "source": [
    "# Define the evaluator\n",
    "evaluator = RegressionEvaluator(metricName=\"rmse\", labelCol=\"Hours_Played\", predictionCol=\"prediction\")"
   ]
  },
  {
   "cell_type": "code",
   "execution_count": 0,
   "metadata": {
    "application/vnd.databricks.v1+cell": {
     "cellMetadata": {
      "byteLimit": 2048000,
      "rowLimit": 10000
     },
     "inputWidgets": {},
     "nuid": "9375a76d-b2b7-40e9-aa02-dc3197a7fd67",
     "showTitle": false,
     "title": ""
    }
   },
   "outputs": [],
   "source": [
    "# Create cross-validator\n",
    "crossval = CrossValidator(estimator=als,\n",
    "                          estimatorParamMaps=paramGrid,\n",
    "                          evaluator=evaluator,\n",
    "                          numFolds=5)"
   ]
  },
  {
   "cell_type": "code",
   "execution_count": 0,
   "metadata": {
    "application/vnd.databricks.v1+cell": {
     "cellMetadata": {
      "byteLimit": 2048000,
      "rowLimit": 10000
     },
     "inputWidgets": {},
     "nuid": "07642a08-5502-49e3-bd4f-361ef2c56e69",
     "showTitle": false,
     "title": ""
    }
   },
   "outputs": [
    {
     "output_type": "stream",
     "name": "stderr",
     "output_type": "stream",
     "text": [
      "2024/05/01 19:50:50 INFO mlflow.utils.autologging_utils: Created MLflow autologging run with ID '035dd0497c6342448fc0f1cf058726bf', which will track hyperparameters, performance metrics, model artifacts, and lineage information for the current pyspark.ml workflow\n2024/05/01 20:16:15 WARNING mlflow.pyspark.ml: Model CrossValidatorModel_7870931b5210 will not be autologged because it is not allowlisted or or because one or more of its nested models are not allowlisted. Call mlflow.spark.log_model() to explicitly log the model, or specify a custom allowlist via the spark.mlflow.pysparkml.autolog.logModelAllowlistFile Spark conf (see mlflow.pyspark.ml.autolog docs for more info).\n"
     ]
    }
   ],
   "source": [
    "# Fit the cross-validator to the training data\n",
    "cvModel = crossval.fit(training_data)"
   ]
  },
  {
   "cell_type": "code",
   "execution_count": 0,
   "metadata": {
    "application/vnd.databricks.v1+cell": {
     "cellMetadata": {
      "byteLimit": 2048000,
      "rowLimit": 10000
     },
     "inputWidgets": {},
     "nuid": "6e8cd842-2ba9-422e-b71d-25b249e6fdc1",
     "showTitle": false,
     "title": ""
    }
   },
   "outputs": [],
   "source": [
    "# Make predictions on the testing data\n",
    "predictions_cv = cvModel.transform(testing_data).dropna()"
   ]
  },
  {
   "cell_type": "code",
   "execution_count": 0,
   "metadata": {
    "application/vnd.databricks.v1+cell": {
     "cellMetadata": {
      "byteLimit": 2048000,
      "rowLimit": 10000
     },
     "inputWidgets": {},
     "nuid": "2c45e82d-ddea-494d-8fe6-27d24ca49f28",
     "showTitle": false,
     "title": ""
    }
   },
   "outputs": [
    {
     "output_type": "stream",
     "name": "stdout",
     "output_type": "stream",
     "text": [
      "Root Mean Squared Error (RMSE) after cross-validation = 10.184608973075635\n"
     ]
    }
   ],
   "source": [
    "# Evaluate the model using RMSE\n",
    "rmse_cv = evaluator.evaluate(predictions_cv)\n",
    "print(\"Root Mean Squared Error (RMSE) after cross-validation = \" + str(rmse_cv))\n"
   ]
  },
  {
   "cell_type": "code",
   "execution_count": 0,
   "metadata": {
    "application/vnd.databricks.v1+cell": {
     "cellMetadata": {
      "byteLimit": 2048000,
      "rowLimit": 10000
     },
     "inputWidgets": {},
     "nuid": "37de50b9-825f-4065-a2ab-6a54c95022d2",
     "showTitle": false,
     "title": ""
    }
   },
   "outputs": [
    {
     "output_type": "stream",
     "name": "stdout",
     "output_type": "stream",
     "text": [
      "+--------+---------------------------------------------------------------------------------------------------------------------------------------------------------------------------------------------------+\n|UserID  |recommendations                                                                                                                                                                                    |\n+--------+---------------------------------------------------------------------------------------------------------------------------------------------------------------------------------------------------+\n|76767   |[{2941, 60.43472}, {2201, 45.58598}, {3272, 40.22553}, {2630, 38.949577}, {2001, 37.743683}, {2577, 37.657448}, {1067, 37.44007}, {3849, 37.32363}, {1368, 36.99244}, {3796, 36.76098}]            |\n|144736  |[{3948, 0.2881585}, {626, 0.28720456}, {3941, 0.28009668}, {1861, 0.26482365}, {365, 0.26388955}, {3552, 0.26295185}, {2941, 0.26232976}, {1694, 0.2507106}, {3919, 0.24831012}, {4315, 0.2425895}]|\n|229911  |[{1767, 11.944993}, {3272, 10.348703}, {5078, 10.211996}, {988, 9.999328}, {2630, 9.74206}, {365, 9.68311}, {2148, 9.67657}, {626, 9.582716}, {1936, 9.462085}, {3849, 9.307186}]                  |\n|948368  |[{2941, 45.22664}, {359, 44.24542}, {2201, 44.073368}, {1505, 40.585217}, {3859, 38.734367}, {3204, 34.90736}, {4705, 32.57759}, {2601, 31.882084}, {330, 31.021088}, {3951, 31.016556}]           |\n|975449  |[{2148, 43.328575}, {2369, 35.02898}, {2536, 31.92514}, {2914, 31.162403}, {973, 30.30789}, {361, 28.030926}, {1062, 27.84281}, {4720, 27.263945}, {6, 26.718887}, {1249, 23.93946}]               |\n|1268792 |[{3948, 1.4407927}, {626, 1.4360229}, {3941, 1.4004834}, {1861, 1.3241181}, {365, 1.3194475}, {3552, 1.3147593}, {2941, 1.3116487}, {1694, 1.253553}, {3919, 1.2415506}, {4315, 1.2129475}]        |\n|2531540 |[{4786, 47.523228}, {959, 34.057167}, {1070, 33.931023}, {1415, 32.94972}, {358, 32.519833}, {436, 31.655926}, {2734, 31.42471}, {456, 30.05172}, {3950, 29.665773}, {3550, 29.355352}]            |\n|2753525 |[{3272, 51.08884}, {1767, 48.042694}, {1528, 42.023254}, {350, 41.016975}, {2435, 40.51807}, {3610, 39.97253}, {3819, 38.798714}, {853, 38.072144}, {2630, 37.647667}, {5078, 35.885113}]          |\n|3450426 |[{4786, 1.9947855}, {1070, 1.6683729}, {1619, 1.5907855}, {3880, 1.4969077}, {358, 1.4550955}, {456, 1.3993376}, {5078, 1.3931215}, {2577, 1.3867058}, {959, 1.3597133}, {1415, 1.3292593}]        |\n|7923954 |[{3948, 0.86447567}, {626, 0.8616138}, {3941, 0.84029007}, {1861, 0.79447097}, {365, 0.79166865}, {3552, 0.7888556}, {2941, 0.78698933}, {1694, 0.7521318}, {3919, 0.74493045}, {4315, 0.72776854}]|\n|8259307 |[{3849, 6.893055}, {5078, 6.349908}, {1936, 6.235318}, {988, 6.188001}, {3272, 6.061398}, {1767, 5.747634}, {2494, 5.535372}, {1528, 5.442038}, {2630, 5.421066}, {2914, 5.302899}]                |\n|8567888 |[{3639, 2.2171383}, {3433, 2.1951182}, {4786, 1.9925805}, {1485, 1.9736184}, {436, 1.7532632}, {3610, 1.7448286}, {3550, 1.7360598}, {3787, 1.6170491}, {2734, 1.5705076}, {1358, 1.5645734}]      |\n|8585433 |[{2148, 40.43769}, {2536, 36.200798}, {4786, 35.601105}, {2914, 33.972004}, {2369, 32.46674}, {973, 31.77204}, {1936, 31.371544}, {456, 30.971174}, {736, 30.533512}, {988, 29.669006}]            |\n|8784496 |[{2201, 59.594902}, {2577, 56.358295}, {2610, 54.440125}, {3849, 53.527096}, {4473, 50.118027}, {2941, 46.929703}, {1642, 45.216705}, {357, 43.422825}, {1936, 43.122074}, {2723, 42.530785}]      |\n|8795607 |[{1067, 68.704124}, {2941, 68.18285}, {4942, 52.954163}, {4038, 52.751476}, {916, 52.660957}, {3982, 50.89825}, {3796, 49.309505}, {4688, 48.070827}, {4801, 47.97157}, {1762, 47.616882}]         |\n|10595342|[{2201, 10.380839}, {3849, 7.3799114}, {1619, 7.317863}, {4786, 7.245152}, {4966, 6.8623843}, {2440, 6.628263}, {1642, 6.469459}, {1761, 6.3423824}, {4163, 5.700431}, {2941, 5.678687}]           |\n|10599862|[{4935, 66.16161}, {2148, 57.830135}, {1070, 55.9654}, {907, 54.684315}, {1067, 49.776443}, {4925, 47.61096}, {3982, 46.33851}, {3574, 45.20514}, {4910, 44.114956}, {5078, 43.8929}]              |\n|11807754|[{1070, 79.86119}, {4935, 73.61634}, {907, 65.09065}, {4925, 53.590965}, {4910, 52.4232}, {1694, 51.65616}, {959, 49.28365}, {4786, 48.720905}, {2148, 45.195732}, {3260, 44.816185}]              |\n|11973378|[{3639, 1.3643929}, {3433, 1.350842}, {4786, 1.2262034}, {1485, 1.2145344}, {436, 1.0789313}, {3610, 1.0737407}, {3550, 1.0683446}, {3787, 0.9951072}, {2734, 0.9664662}, {1358, 0.9628144}]       |\n|15095770|[{2941, 5.076085}, {3639, 3.9328964}, {3849, 3.7718623}, {2148, 3.664573}, {1767, 3.6169958}, {5078, 3.4417048}, {3433, 3.3796756}, {2630, 3.1727805}, {3272, 3.0185685}, {3610, 2.9874134}]       |\n+--------+---------------------------------------------------------------------------------------------------------------------------------------------------------------------------------------------------+\nonly showing top 20 rows\n\n"
     ]
    }
   ],
   "source": [
    "# Generate top n game recommendations for each user\n",
    "userRecs = model.recommendForAllUsers(10)\n",
    "userRecs.show(truncate=False)"
   ]
  },
  {
   "cell_type": "code",
   "execution_count": 0,
   "metadata": {
    "application/vnd.databricks.v1+cell": {
     "cellMetadata": {
      "byteLimit": 2048000,
      "rowLimit": 10000
     },
     "inputWidgets": {},
     "nuid": "17a296fd-11b5-41b2-a708-4b09ee1b8797",
     "showTitle": false,
     "title": ""
    }
   },
   "outputs": [
    {
     "output_type": "stream",
     "name": "stdout",
     "output_type": "stream",
     "text": [
      "+-------+---------+----------------------------+\n|game_id|rating   |game_name                   |\n+-------+---------+----------------------------+\n|6      |15.70791 |100% Orange Juice           |\n|6      |15.70791 |100% Orange Juice           |\n|6      |15.70791 |100% Orange Juice           |\n|6      |15.70791 |100% Orange Juice           |\n|6      |15.70791 |100% Orange Juice           |\n|6      |15.70791 |100% Orange Juice           |\n|6      |15.70791 |100% Orange Juice           |\n|6      |15.70791 |100% Orange Juice           |\n|6      |15.70791 |100% Orange Juice           |\n|6      |15.70791 |100% Orange Juice           |\n|6      |15.70791 |100% Orange Juice           |\n|6      |15.70791 |100% Orange Juice           |\n|6      |15.70791 |100% Orange Juice           |\n|6      |15.70791 |100% Orange Juice           |\n|6      |15.70791 |100% Orange Juice           |\n|6      |15.70791 |100% Orange Juice           |\n|6      |15.70791 |100% Orange Juice           |\n|6      |15.70791 |100% Orange Juice           |\n|6      |15.70791 |100% Orange Juice           |\n|361    |15.855124|Assassin's Creed Revelations|\n+-------+---------+----------------------------+\nonly showing top 20 rows\n\n"
     ]
    }
   ],
   "source": [
    "# Get recommendations for user with user_Id 1\n",
    "user_id = 151603712\n",
    "user_recommendations = userRecs.where(userRecs.UserID == user_id) \\\n",
    "                               .select(\"recommendations\") \\\n",
    "                               .withColumn(\"recommendations\", explode(\"recommendations\")) \\\n",
    "                               .select(\"recommendations.game_id\", \"recommendations.rating\") \\\n",
    "                               .join(game_rec, [\"game_id\"]) \\\n",
    "                               .show(truncate=False)"
   ]
  },
  {
   "cell_type": "code",
   "execution_count": 0,
   "metadata": {
    "application/vnd.databricks.v1+cell": {
     "cellMetadata": {
      "byteLimit": 2048000,
      "rowLimit": 10000
     },
     "inputWidgets": {},
     "nuid": "882891d7-f060-46dc-ae8f-0945e1cb3a07",
     "showTitle": false,
     "title": ""
    }
   },
   "outputs": [
    {
     "output_type": "stream",
     "name": "stderr",
     "output_type": "stream",
     "text": [
      "2024/05/01 20:17:32 INFO mlflow.utils.autologging_utils: Created MLflow autologging run with ID '2600343c28d24664a8500e136b092daa', which will track hyperparameters, performance metrics, model artifacts, and lineage information for the current pyspark.ml workflow\n2024/05/01 20:17:46 WARNING mlflow.pyspark.ml: Model ALS_721f5b2414e2 will not be autologged because it is not allowlisted or or because one or more of its nested models are not allowlisted. Call mlflow.spark.log_model() to explicitly log the model, or specify a custom allowlist via the spark.mlflow.pysparkml.autolog.logModelAllowlistFile Spark conf (see mlflow.pyspark.ml.autolog docs for more info).\n"
     ]
    },
    {
     "output_type": "stream",
     "name": "stdout",
     "output_type": "stream",
     "text": [
      "RMSE for maxIter=5, regParam=0.001: 1.098200582423645\n"
     ]
    },
    {
     "output_type": "stream",
     "name": "stderr",
     "output_type": "stream",
     "text": [
      "2024/05/01 20:17:53 INFO mlflow.utils.autologging_utils: Created MLflow autologging run with ID '30a205fdb9184b13846c53f53563889b', which will track hyperparameters, performance metrics, model artifacts, and lineage information for the current pyspark.ml workflow\n2024/05/01 20:18:08 WARNING mlflow.pyspark.ml: Model ALS_ade0aa6e4b4c will not be autologged because it is not allowlisted or or because one or more of its nested models are not allowlisted. Call mlflow.spark.log_model() to explicitly log the model, or specify a custom allowlist via the spark.mlflow.pysparkml.autolog.logModelAllowlistFile Spark conf (see mlflow.pyspark.ml.autolog docs for more info).\n"
     ]
    },
    {
     "output_type": "stream",
     "name": "stdout",
     "output_type": "stream",
     "text": [
      "RMSE for maxIter=5, regParam=0.005: 1.1043229650940747\n"
     ]
    },
    {
     "output_type": "stream",
     "name": "stderr",
     "output_type": "stream",
     "text": [
      "2024/05/01 20:18:15 INFO mlflow.utils.autologging_utils: Created MLflow autologging run with ID 'c880e71de37c4e06a0cf518f28bd11c7', which will track hyperparameters, performance metrics, model artifacts, and lineage information for the current pyspark.ml workflow\n2024/05/01 20:18:29 WARNING mlflow.pyspark.ml: Model ALS_daf753d2a5eb will not be autologged because it is not allowlisted or or because one or more of its nested models are not allowlisted. Call mlflow.spark.log_model() to explicitly log the model, or specify a custom allowlist via the spark.mlflow.pysparkml.autolog.logModelAllowlistFile Spark conf (see mlflow.pyspark.ml.autolog docs for more info).\n"
     ]
    },
    {
     "output_type": "stream",
     "name": "stdout",
     "output_type": "stream",
     "text": [
      "RMSE for maxIter=5, regParam=0.01: 1.076505407220855\n"
     ]
    },
    {
     "output_type": "stream",
     "name": "stderr",
     "output_type": "stream",
     "text": [
      "2024/05/01 20:18:37 INFO mlflow.utils.autologging_utils: Created MLflow autologging run with ID '31b809396a504099a7b53e5dd73f8a84', which will track hyperparameters, performance metrics, model artifacts, and lineage information for the current pyspark.ml workflow\n2024/05/01 20:18:52 WARNING mlflow.pyspark.ml: Model ALS_dadb884804bd will not be autologged because it is not allowlisted or or because one or more of its nested models are not allowlisted. Call mlflow.spark.log_model() to explicitly log the model, or specify a custom allowlist via the spark.mlflow.pysparkml.autolog.logModelAllowlistFile Spark conf (see mlflow.pyspark.ml.autolog docs for more info).\n"
     ]
    },
    {
     "output_type": "stream",
     "name": "stdout",
     "output_type": "stream",
     "text": [
      "RMSE for maxIter=5, regParam=0.05: 1.0889753936535476\n"
     ]
    },
    {
     "output_type": "stream",
     "name": "stderr",
     "output_type": "stream",
     "text": [
      "2024/05/01 20:18:59 INFO mlflow.utils.autologging_utils: Created MLflow autologging run with ID '2cbcba6a86d948c3b179e82bc10df464', which will track hyperparameters, performance metrics, model artifacts, and lineage information for the current pyspark.ml workflow\n2024/05/01 20:19:14 WARNING mlflow.pyspark.ml: Model ALS_af8a0a2624d9 will not be autologged because it is not allowlisted or or because one or more of its nested models are not allowlisted. Call mlflow.spark.log_model() to explicitly log the model, or specify a custom allowlist via the spark.mlflow.pysparkml.autolog.logModelAllowlistFile Spark conf (see mlflow.pyspark.ml.autolog docs for more info).\n"
     ]
    },
    {
     "output_type": "stream",
     "name": "stdout",
     "output_type": "stream",
     "text": [
      "RMSE for maxIter=5, regParam=0.1: 1.1525727430764363\n"
     ]
    },
    {
     "output_type": "stream",
     "name": "stderr",
     "output_type": "stream",
     "text": [
      "2024/05/01 20:19:21 INFO mlflow.utils.autologging_utils: Created MLflow autologging run with ID 'a29a279f4251494b858ad3f31c2dbd85', which will track hyperparameters, performance metrics, model artifacts, and lineage information for the current pyspark.ml workflow\n2024/05/01 20:19:49 WARNING mlflow.pyspark.ml: Model ALS_6aadeceed392 will not be autologged because it is not allowlisted or or because one or more of its nested models are not allowlisted. Call mlflow.spark.log_model() to explicitly log the model, or specify a custom allowlist via the spark.mlflow.pysparkml.autolog.logModelAllowlistFile Spark conf (see mlflow.pyspark.ml.autolog docs for more info).\n"
     ]
    },
    {
     "output_type": "stream",
     "name": "stdout",
     "output_type": "stream",
     "text": [
      "RMSE for maxIter=10, regParam=0.001: 0.7611121124810402\n"
     ]
    },
    {
     "output_type": "stream",
     "name": "stderr",
     "output_type": "stream",
     "text": [
      "2024/05/01 20:19:58 INFO mlflow.utils.autologging_utils: Created MLflow autologging run with ID 'd3def311475f4b9da4bc74906ddc8f2d', which will track hyperparameters, performance metrics, model artifacts, and lineage information for the current pyspark.ml workflow\n2024/05/01 20:20:28 WARNING mlflow.pyspark.ml: Model ALS_e437d059a9fb will not be autologged because it is not allowlisted or or because one or more of its nested models are not allowlisted. Call mlflow.spark.log_model() to explicitly log the model, or specify a custom allowlist via the spark.mlflow.pysparkml.autolog.logModelAllowlistFile Spark conf (see mlflow.pyspark.ml.autolog docs for more info).\n"
     ]
    },
    {
     "output_type": "stream",
     "name": "stdout",
     "output_type": "stream",
     "text": [
      "RMSE for maxIter=10, regParam=0.005: 0.7522453813330854\n"
     ]
    },
    {
     "output_type": "stream",
     "name": "stderr",
     "output_type": "stream",
     "text": [
      "2024/05/01 20:20:37 INFO mlflow.utils.autologging_utils: Created MLflow autologging run with ID '99af638ec271440eb4ceba35a3899600', which will track hyperparameters, performance metrics, model artifacts, and lineage information for the current pyspark.ml workflow\n2024/05/01 20:21:06 WARNING mlflow.pyspark.ml: Model ALS_7f845cddcad5 will not be autologged because it is not allowlisted or or because one or more of its nested models are not allowlisted. Call mlflow.spark.log_model() to explicitly log the model, or specify a custom allowlist via the spark.mlflow.pysparkml.autolog.logModelAllowlistFile Spark conf (see mlflow.pyspark.ml.autolog docs for more info).\n"
     ]
    },
    {
     "output_type": "stream",
     "name": "stdout",
     "output_type": "stream",
     "text": [
      "RMSE for maxIter=10, regParam=0.01: 0.734165158565465\n"
     ]
    },
    {
     "output_type": "stream",
     "name": "stderr",
     "output_type": "stream",
     "text": [
      "2024/05/01 20:21:15 INFO mlflow.utils.autologging_utils: Created MLflow autologging run with ID 'c6689babd7924d22864302d41af121c5', which will track hyperparameters, performance metrics, model artifacts, and lineage information for the current pyspark.ml workflow\n2024/05/01 20:21:44 WARNING mlflow.pyspark.ml: Model ALS_2883bf9bd0af will not be autologged because it is not allowlisted or or because one or more of its nested models are not allowlisted. Call mlflow.spark.log_model() to explicitly log the model, or specify a custom allowlist via the spark.mlflow.pysparkml.autolog.logModelAllowlistFile Spark conf (see mlflow.pyspark.ml.autolog docs for more info).\n"
     ]
    },
    {
     "output_type": "stream",
     "name": "stdout",
     "output_type": "stream",
     "text": [
      "RMSE for maxIter=10, regParam=0.05: 0.7529530849685248\n"
     ]
    },
    {
     "output_type": "stream",
     "name": "stderr",
     "output_type": "stream",
     "text": [
      "2024/05/01 20:21:53 INFO mlflow.utils.autologging_utils: Created MLflow autologging run with ID '9ca40e710cae478494c45550a5064476', which will track hyperparameters, performance metrics, model artifacts, and lineage information for the current pyspark.ml workflow\n2024/05/01 20:22:22 WARNING mlflow.pyspark.ml: Model ALS_92584be8de7c will not be autologged because it is not allowlisted or or because one or more of its nested models are not allowlisted. Call mlflow.spark.log_model() to explicitly log the model, or specify a custom allowlist via the spark.mlflow.pysparkml.autolog.logModelAllowlistFile Spark conf (see mlflow.pyspark.ml.autolog docs for more info).\n"
     ]
    },
    {
     "output_type": "stream",
     "name": "stdout",
     "output_type": "stream",
     "text": [
      "RMSE for maxIter=10, regParam=0.1: 0.8545760681368558\n"
     ]
    },
    {
     "output_type": "stream",
     "name": "stderr",
     "output_type": "stream",
     "text": [
      "2024/05/01 20:22:32 INFO mlflow.utils.autologging_utils: Created MLflow autologging run with ID 'c56c346814bf48c781f7b181195f31a4', which will track hyperparameters, performance metrics, model artifacts, and lineage information for the current pyspark.ml workflow\n2024/05/01 20:23:27 WARNING mlflow.pyspark.ml: Model ALS_e10e07c328cb will not be autologged because it is not allowlisted or or because one or more of its nested models are not allowlisted. Call mlflow.spark.log_model() to explicitly log the model, or specify a custom allowlist via the spark.mlflow.pysparkml.autolog.logModelAllowlistFile Spark conf (see mlflow.pyspark.ml.autolog docs for more info).\n"
     ]
    },
    {
     "output_type": "stream",
     "name": "stdout",
     "output_type": "stream",
     "text": [
      "RMSE for maxIter=15, regParam=0.001: 0.563467076677702\n"
     ]
    },
    {
     "output_type": "stream",
     "name": "stderr",
     "output_type": "stream",
     "text": [
      "2024/05/01 20:23:40 INFO mlflow.utils.autologging_utils: Created MLflow autologging run with ID 'd4ec1ed8a41d4d61abaaad8130850b70', which will track hyperparameters, performance metrics, model artifacts, and lineage information for the current pyspark.ml workflow\n2024/05/01 20:24:34 WARNING mlflow.pyspark.ml: Model ALS_7df98b887fd1 will not be autologged because it is not allowlisted or or because one or more of its nested models are not allowlisted. Call mlflow.spark.log_model() to explicitly log the model, or specify a custom allowlist via the spark.mlflow.pysparkml.autolog.logModelAllowlistFile Spark conf (see mlflow.pyspark.ml.autolog docs for more info).\n"
     ]
    },
    {
     "output_type": "stream",
     "name": "stdout",
     "output_type": "stream",
     "text": [
      "RMSE for maxIter=15, regParam=0.005: 0.6110075080078502\n"
     ]
    },
    {
     "output_type": "stream",
     "name": "stderr",
     "output_type": "stream",
     "text": [
      "2024/05/01 20:24:46 INFO mlflow.utils.autologging_utils: Created MLflow autologging run with ID 'ece83a5c91b34a40886adebc2d4c6e44', which will track hyperparameters, performance metrics, model artifacts, and lineage information for the current pyspark.ml workflow\n2024/05/01 20:25:40 WARNING mlflow.pyspark.ml: Model ALS_8916bed86d04 will not be autologged because it is not allowlisted or or because one or more of its nested models are not allowlisted. Call mlflow.spark.log_model() to explicitly log the model, or specify a custom allowlist via the spark.mlflow.pysparkml.autolog.logModelAllowlistFile Spark conf (see mlflow.pyspark.ml.autolog docs for more info).\n"
     ]
    },
    {
     "output_type": "stream",
     "name": "stdout",
     "output_type": "stream",
     "text": [
      "RMSE for maxIter=15, regParam=0.01: 0.5633585157714922\n"
     ]
    },
    {
     "output_type": "stream",
     "name": "stderr",
     "output_type": "stream",
     "text": [
      "2024/05/01 20:25:52 INFO mlflow.utils.autologging_utils: Created MLflow autologging run with ID 'd65e46fa06944fb7ba3f9572e3ea377a', which will track hyperparameters, performance metrics, model artifacts, and lineage information for the current pyspark.ml workflow\n2024/05/01 20:26:49 WARNING mlflow.pyspark.ml: Model ALS_23114c2dcaec will not be autologged because it is not allowlisted or or because one or more of its nested models are not allowlisted. Call mlflow.spark.log_model() to explicitly log the model, or specify a custom allowlist via the spark.mlflow.pysparkml.autolog.logModelAllowlistFile Spark conf (see mlflow.pyspark.ml.autolog docs for more info).\n"
     ]
    },
    {
     "output_type": "stream",
     "name": "stdout",
     "output_type": "stream",
     "text": [
      "RMSE for maxIter=15, regParam=0.05: 0.6244966643064842\n"
     ]
    },
    {
     "output_type": "stream",
     "name": "stderr",
     "output_type": "stream",
     "text": [
      "2024/05/01 20:27:02 INFO mlflow.utils.autologging_utils: Created MLflow autologging run with ID 'ab1a262869f54a3bbc35dd1385c3c08b', which will track hyperparameters, performance metrics, model artifacts, and lineage information for the current pyspark.ml workflow\n2024/05/01 20:27:57 WARNING mlflow.pyspark.ml: Model ALS_7162b88f1805 will not be autologged because it is not allowlisted or or because one or more of its nested models are not allowlisted. Call mlflow.spark.log_model() to explicitly log the model, or specify a custom allowlist via the spark.mlflow.pysparkml.autolog.logModelAllowlistFile Spark conf (see mlflow.pyspark.ml.autolog docs for more info).\n"
     ]
    },
    {
     "output_type": "stream",
     "name": "stdout",
     "output_type": "stream",
     "text": [
      "RMSE for maxIter=15, regParam=0.1: 0.708982762983896\nBest RMSE: 0.5633585157714922\nBest Parameters: (15, 0.01)\n"
     ]
    }
   ],
   "source": [
    "# Parameter Tuning\n",
    "import itertools\n",
    "\n",
    "param_grid = {'maxIter': [5, 10, 15], 'regParam': [0.001, 0.005, 0.01, 0.05, 0.1]} \n",
    "best_rmse = float('inf')\n",
    "best_params = None\n",
    "\n",
    "for maxIter, regParam in itertools.product(param_grid['maxIter'], param_grid['regParam']):\n",
    "    als = ALS(maxIter=maxIter, regParam=regParam, userCol='UserID', itemCol='game_id', ratingCol='Hours_Played', seed=100, nonnegative=True)\n",
    "    model = als.fit(testing_data)\n",
    "    predictions = model.transform(testing_data).dropna()\n",
    "        \n",
    "    # Evaluate model using RegressionEvaluator\n",
    "    evaluator = RegressionEvaluator(metricName=\"rmse\", labelCol=\"Hours_Played\", predictionCol=\"prediction\")\n",
    "    rmse = evaluator.evaluate(predictions)\n",
    "    print(\"RMSE for maxIter={}, regParam={}: {}\".format(maxIter, regParam, rmse))\n",
    "        \n",
    "    # Update best RMSE and parameters if current RMSE is better\n",
    "    if rmse < best_rmse:\n",
    "        best_rmse = rmse\n",
    "        best_params = (maxIter, regParam)\n",
    "\n",
    "print(\"Best RMSE:\", best_rmse)\n",
    "print(\"Best Parameters:\", best_params)\n"
   ]
  },
  {
   "cell_type": "code",
   "execution_count": 0,
   "metadata": {
    "application/vnd.databricks.v1+cell": {
     "cellMetadata": {
      "byteLimit": 2048000,
      "rowLimit": 10000
     },
     "inputWidgets": {},
     "nuid": "3964a164-a052-4417-a7ea-4ec6508fc59f",
     "showTitle": false,
     "title": ""
    }
   },
   "outputs": [
    {
     "output_type": "stream",
     "name": "stderr",
     "output_type": "stream",
     "text": [
      "2024/05/01 20:28:10 INFO mlflow.utils.autologging_utils: Created MLflow autologging run with ID '5e85150cb807418da18a4f07b1352192', which will track hyperparameters, performance metrics, model artifacts, and lineage information for the current pyspark.ml workflow\n2024/05/01 20:28:25 WARNING mlflow.pyspark.ml: Model ALS_b214b334faf9 will not be autologged because it is not allowlisted or or because one or more of its nested models are not allowlisted. Call mlflow.spark.log_model() to explicitly log the model, or specify a custom allowlist via the spark.mlflow.pysparkml.autolog.logModelAllowlistFile Spark conf (see mlflow.pyspark.ml.autolog docs for more info).\n"
     ]
    },
    {
     "output_type": "stream",
     "name": "stdout",
     "output_type": "stream",
     "text": [
      "RMSE for maxIter=5, regParam=0.001: 1.098200582423645\n"
     ]
    },
    {
     "output_type": "stream",
     "name": "stderr",
     "output_type": "stream",
     "text": [
      "2024/05/01 20:28:32 INFO mlflow.utils.autologging_utils: Created MLflow autologging run with ID '356eaec607a84b729ff1cd8b22df9a6e', which will track hyperparameters, performance metrics, model artifacts, and lineage information for the current pyspark.ml workflow\n2024/05/01 20:28:46 WARNING mlflow.pyspark.ml: Model ALS_707fef915624 will not be autologged because it is not allowlisted or or because one or more of its nested models are not allowlisted. Call mlflow.spark.log_model() to explicitly log the model, or specify a custom allowlist via the spark.mlflow.pysparkml.autolog.logModelAllowlistFile Spark conf (see mlflow.pyspark.ml.autolog docs for more info).\n"
     ]
    },
    {
     "output_type": "stream",
     "name": "stdout",
     "output_type": "stream",
     "text": [
      "RMSE for maxIter=5, regParam=0.005: 1.1043229650940747\n"
     ]
    },
    {
     "output_type": "stream",
     "name": "stderr",
     "output_type": "stream",
     "text": [
      "2024/05/01 20:28:53 INFO mlflow.utils.autologging_utils: Created MLflow autologging run with ID 'af82f50b54e643b893eecd9c6fa20089', which will track hyperparameters, performance metrics, model artifacts, and lineage information for the current pyspark.ml workflow\n2024/05/01 20:29:07 WARNING mlflow.pyspark.ml: Model ALS_f5d4ed6d4ce5 will not be autologged because it is not allowlisted or or because one or more of its nested models are not allowlisted. Call mlflow.spark.log_model() to explicitly log the model, or specify a custom allowlist via the spark.mlflow.pysparkml.autolog.logModelAllowlistFile Spark conf (see mlflow.pyspark.ml.autolog docs for more info).\n"
     ]
    },
    {
     "output_type": "stream",
     "name": "stdout",
     "output_type": "stream",
     "text": [
      "RMSE for maxIter=5, regParam=0.01: 1.076505407220855\n"
     ]
    },
    {
     "output_type": "stream",
     "name": "stderr",
     "output_type": "stream",
     "text": [
      "2024/05/01 20:29:15 INFO mlflow.utils.autologging_utils: Created MLflow autologging run with ID '18849bc9c18a4398a926c0991ed19a22', which will track hyperparameters, performance metrics, model artifacts, and lineage information for the current pyspark.ml workflow\n2024/05/01 20:29:29 WARNING mlflow.pyspark.ml: Model ALS_d99c4b39eb16 will not be autologged because it is not allowlisted or or because one or more of its nested models are not allowlisted. Call mlflow.spark.log_model() to explicitly log the model, or specify a custom allowlist via the spark.mlflow.pysparkml.autolog.logModelAllowlistFile Spark conf (see mlflow.pyspark.ml.autolog docs for more info).\n"
     ]
    },
    {
     "output_type": "stream",
     "name": "stdout",
     "output_type": "stream",
     "text": [
      "RMSE for maxIter=5, regParam=0.05: 1.0889753936535476\n"
     ]
    },
    {
     "output_type": "stream",
     "name": "stderr",
     "output_type": "stream",
     "text": [
      "2024/05/01 20:29:36 INFO mlflow.utils.autologging_utils: Created MLflow autologging run with ID '0289ef7753c84f34a9643bee905e6274', which will track hyperparameters, performance metrics, model artifacts, and lineage information for the current pyspark.ml workflow\n2024/05/01 20:29:52 WARNING mlflow.pyspark.ml: Model ALS_cb53a317c5ed will not be autologged because it is not allowlisted or or because one or more of its nested models are not allowlisted. Call mlflow.spark.log_model() to explicitly log the model, or specify a custom allowlist via the spark.mlflow.pysparkml.autolog.logModelAllowlistFile Spark conf (see mlflow.pyspark.ml.autolog docs for more info).\n"
     ]
    },
    {
     "output_type": "stream",
     "name": "stdout",
     "output_type": "stream",
     "text": [
      "RMSE for maxIter=5, regParam=0.1: 1.1525727430764363\n"
     ]
    },
    {
     "output_type": "stream",
     "name": "stderr",
     "output_type": "stream",
     "text": [
      "2024/05/01 20:29:59 INFO mlflow.utils.autologging_utils: Created MLflow autologging run with ID '3b3a06d53d0f4f1297e4670b1afc8131', which will track hyperparameters, performance metrics, model artifacts, and lineage information for the current pyspark.ml workflow\n2024/05/01 20:30:28 WARNING mlflow.pyspark.ml: Model ALS_c0a878b73d7d will not be autologged because it is not allowlisted or or because one or more of its nested models are not allowlisted. Call mlflow.spark.log_model() to explicitly log the model, or specify a custom allowlist via the spark.mlflow.pysparkml.autolog.logModelAllowlistFile Spark conf (see mlflow.pyspark.ml.autolog docs for more info).\n"
     ]
    },
    {
     "output_type": "stream",
     "name": "stdout",
     "output_type": "stream",
     "text": [
      "RMSE for maxIter=10, regParam=0.001: 0.7611121124810402\n"
     ]
    },
    {
     "output_type": "stream",
     "name": "stderr",
     "output_type": "stream",
     "text": [
      "2024/05/01 20:30:37 INFO mlflow.utils.autologging_utils: Created MLflow autologging run with ID '605c7c53248642cc8d83c452a1552c44', which will track hyperparameters, performance metrics, model artifacts, and lineage information for the current pyspark.ml workflow\n2024/05/01 20:31:05 WARNING mlflow.pyspark.ml: Model ALS_7c2ba7dcee65 will not be autologged because it is not allowlisted or or because one or more of its nested models are not allowlisted. Call mlflow.spark.log_model() to explicitly log the model, or specify a custom allowlist via the spark.mlflow.pysparkml.autolog.logModelAllowlistFile Spark conf (see mlflow.pyspark.ml.autolog docs for more info).\n"
     ]
    },
    {
     "output_type": "stream",
     "name": "stdout",
     "output_type": "stream",
     "text": [
      "RMSE for maxIter=10, regParam=0.005: 0.7522453813330854\n"
     ]
    },
    {
     "output_type": "stream",
     "name": "stderr",
     "output_type": "stream",
     "text": [
      "2024/05/01 20:31:14 INFO mlflow.utils.autologging_utils: Created MLflow autologging run with ID '4b158ca5a2024c53be52c7805c578a31', which will track hyperparameters, performance metrics, model artifacts, and lineage information for the current pyspark.ml workflow\n2024/05/01 20:31:43 WARNING mlflow.pyspark.ml: Model ALS_c8cc23e327d5 will not be autologged because it is not allowlisted or or because one or more of its nested models are not allowlisted. Call mlflow.spark.log_model() to explicitly log the model, or specify a custom allowlist via the spark.mlflow.pysparkml.autolog.logModelAllowlistFile Spark conf (see mlflow.pyspark.ml.autolog docs for more info).\n"
     ]
    },
    {
     "output_type": "stream",
     "name": "stdout",
     "output_type": "stream",
     "text": [
      "RMSE for maxIter=10, regParam=0.01: 0.734165158565465\n"
     ]
    },
    {
     "output_type": "stream",
     "name": "stderr",
     "output_type": "stream",
     "text": [
      "2024/05/01 20:31:52 INFO mlflow.utils.autologging_utils: Created MLflow autologging run with ID '83d05ce81cb84ad9a6156c5da3d4cf85', which will track hyperparameters, performance metrics, model artifacts, and lineage information for the current pyspark.ml workflow\n2024/05/01 20:32:21 WARNING mlflow.pyspark.ml: Model ALS_226494385f1c will not be autologged because it is not allowlisted or or because one or more of its nested models are not allowlisted. Call mlflow.spark.log_model() to explicitly log the model, or specify a custom allowlist via the spark.mlflow.pysparkml.autolog.logModelAllowlistFile Spark conf (see mlflow.pyspark.ml.autolog docs for more info).\n"
     ]
    },
    {
     "output_type": "stream",
     "name": "stdout",
     "output_type": "stream",
     "text": [
      "RMSE for maxIter=10, regParam=0.05: 0.7529530849685248\n"
     ]
    },
    {
     "output_type": "stream",
     "name": "stderr",
     "output_type": "stream",
     "text": [
      "2024/05/01 20:32:31 INFO mlflow.utils.autologging_utils: Created MLflow autologging run with ID '131ede96663f400c9c4e6e07150aa8e8', which will track hyperparameters, performance metrics, model artifacts, and lineage information for the current pyspark.ml workflow\n2024/05/01 20:32:59 WARNING mlflow.pyspark.ml: Model ALS_92b7f8cc6ea0 will not be autologged because it is not allowlisted or or because one or more of its nested models are not allowlisted. Call mlflow.spark.log_model() to explicitly log the model, or specify a custom allowlist via the spark.mlflow.pysparkml.autolog.logModelAllowlistFile Spark conf (see mlflow.pyspark.ml.autolog docs for more info).\n"
     ]
    },
    {
     "output_type": "stream",
     "name": "stdout",
     "output_type": "stream",
     "text": [
      "RMSE for maxIter=10, regParam=0.1: 0.8545760681368558\n"
     ]
    },
    {
     "output_type": "stream",
     "name": "stderr",
     "output_type": "stream",
     "text": [
      "2024/05/01 20:33:08 INFO mlflow.utils.autologging_utils: Created MLflow autologging run with ID '760d66ba73a54478811adf5478ee63ee', which will track hyperparameters, performance metrics, model artifacts, and lineage information for the current pyspark.ml workflow\n2024/05/01 20:34:02 WARNING mlflow.pyspark.ml: Model ALS_b2dfbdd804d4 will not be autologged because it is not allowlisted or or because one or more of its nested models are not allowlisted. Call mlflow.spark.log_model() to explicitly log the model, or specify a custom allowlist via the spark.mlflow.pysparkml.autolog.logModelAllowlistFile Spark conf (see mlflow.pyspark.ml.autolog docs for more info).\n"
     ]
    },
    {
     "output_type": "stream",
     "name": "stdout",
     "output_type": "stream",
     "text": [
      "RMSE for maxIter=15, regParam=0.001: 0.563467076677702\n"
     ]
    },
    {
     "output_type": "stream",
     "name": "stderr",
     "output_type": "stream",
     "text": [
      "2024/05/01 20:34:15 INFO mlflow.utils.autologging_utils: Created MLflow autologging run with ID '6edb8dcc7bdc4f728b680292eaa59e18', which will track hyperparameters, performance metrics, model artifacts, and lineage information for the current pyspark.ml workflow\n2024/05/01 20:35:08 WARNING mlflow.pyspark.ml: Model ALS_e53ffeab3675 will not be autologged because it is not allowlisted or or because one or more of its nested models are not allowlisted. Call mlflow.spark.log_model() to explicitly log the model, or specify a custom allowlist via the spark.mlflow.pysparkml.autolog.logModelAllowlistFile Spark conf (see mlflow.pyspark.ml.autolog docs for more info).\n"
     ]
    },
    {
     "output_type": "stream",
     "name": "stdout",
     "output_type": "stream",
     "text": [
      "RMSE for maxIter=15, regParam=0.005: 0.6110075080078502\n"
     ]
    },
    {
     "output_type": "stream",
     "name": "stderr",
     "output_type": "stream",
     "text": [
      "2024/05/01 20:35:21 INFO mlflow.utils.autologging_utils: Created MLflow autologging run with ID '2feb8a1ff4ea44d6b218ff12f3b1e88e', which will track hyperparameters, performance metrics, model artifacts, and lineage information for the current pyspark.ml workflow\n2024/05/01 20:36:16 WARNING mlflow.pyspark.ml: Model ALS_1220e1eb5de8 will not be autologged because it is not allowlisted or or because one or more of its nested models are not allowlisted. Call mlflow.spark.log_model() to explicitly log the model, or specify a custom allowlist via the spark.mlflow.pysparkml.autolog.logModelAllowlistFile Spark conf (see mlflow.pyspark.ml.autolog docs for more info).\n"
     ]
    },
    {
     "output_type": "stream",
     "name": "stdout",
     "output_type": "stream",
     "text": [
      "RMSE for maxIter=15, regParam=0.01: 0.5633585157714922\n"
     ]
    },
    {
     "output_type": "stream",
     "name": "stderr",
     "output_type": "stream",
     "text": [
      "2024/05/01 20:36:28 INFO mlflow.utils.autologging_utils: Created MLflow autologging run with ID 'f8fdc100e7754522b370cb671ac26ec4', which will track hyperparameters, performance metrics, model artifacts, and lineage information for the current pyspark.ml workflow\n2024/05/01 20:37:24 WARNING mlflow.pyspark.ml: Model ALS_9414e659e515 will not be autologged because it is not allowlisted or or because one or more of its nested models are not allowlisted. Call mlflow.spark.log_model() to explicitly log the model, or specify a custom allowlist via the spark.mlflow.pysparkml.autolog.logModelAllowlistFile Spark conf (see mlflow.pyspark.ml.autolog docs for more info).\n"
     ]
    },
    {
     "output_type": "stream",
     "name": "stdout",
     "output_type": "stream",
     "text": [
      "RMSE for maxIter=15, regParam=0.05: 0.6244966643064842\n"
     ]
    },
    {
     "output_type": "stream",
     "name": "stderr",
     "output_type": "stream",
     "text": [
      "2024/05/01 20:37:37 INFO mlflow.utils.autologging_utils: Created MLflow autologging run with ID 'ad621fe4a3a847b7a1420b89d2e8a26b', which will track hyperparameters, performance metrics, model artifacts, and lineage information for the current pyspark.ml workflow\n2024/05/01 20:38:28 WARNING mlflow.pyspark.ml: Model ALS_d2fa6aa7c4eb will not be autologged because it is not allowlisted or or because one or more of its nested models are not allowlisted. Call mlflow.spark.log_model() to explicitly log the model, or specify a custom allowlist via the spark.mlflow.pysparkml.autolog.logModelAllowlistFile Spark conf (see mlflow.pyspark.ml.autolog docs for more info).\n"
     ]
    },
    {
     "output_type": "stream",
     "name": "stdout",
     "output_type": "stream",
     "text": [
      "RMSE for maxIter=15, regParam=0.1: 0.708982762983896\n"
     ]
    },
    {
     "output_type": "display_data",
     "data": {
      "image/png": "[encoded data removed]",
      "text/plain": [
       "<Figure size 1000x600 with 1 Axes>"
      ]
     },
     "metadata": {},
     "output_type": "display_data"
    }
   ],
   "source": [
    "# Parameter Tuning With plotting\n",
    "param_grid = {'maxIter': [5, 10, 15], 'regParam': [0.001, 0.005, 0.01, 0.05, 0.1]} \n",
    "rmse_values = []\n",
    "\n",
    "for maxIter in param_grid['maxIter']:\n",
    "    for regParam in param_grid['regParam']:\n",
    "        als = ALS(maxIter=maxIter, regParam=regParam, userCol='UserID', itemCol='game_id', ratingCol='Hours_Played', seed=100, nonnegative=True)\n",
    "        model = als.fit(testing_data)\n",
    "        predictions = model.transform(testing_data).dropna()\n",
    "        \n",
    "        # Evaluate model using RegressionEvaluator\n",
    "        evaluator = RegressionEvaluator(metricName=\"rmse\", labelCol=\"Hours_Played\", predictionCol=\"prediction\")\n",
    "        rmse = evaluator.evaluate(predictions)\n",
    "        print(\"RMSE for maxIter={}, regParam={}: {}\".format(maxIter, regParam, rmse))\n",
    "        \n",
    "        # Append RMSE value to the list\n",
    "        rmse_values.append((maxIter, regParam, rmse))\n",
    "\n",
    "# Convert list of tuples to a DataFrame\n",
    "rmse_df = pd.DataFrame(rmse_values, columns=['maxIter', 'regParam', 'RMSE'])\n",
    "\n",
    "# Plot RMSE comparison\n",
    "plt.figure(figsize=(10, 6))\n",
    "for maxIter in param_grid['maxIter']:\n",
    "    subset = rmse_df[rmse_df['maxIter'] == maxIter]\n",
    "    plt.plot(subset['regParam'], subset['RMSE'], marker='o', label=f'maxIter={maxIter}')\n",
    "\n",
    "plt.title('RMSE Comparison for Different Parameter Combinations')\n",
    "plt.xlabel('regParam')\n",
    "plt.ylabel('RMSE')\n",
    "plt.legend()\n",
    "plt.grid(True)\n",
    "plt.show()\n"
   ]
  }
 ],
 "metadata": {
  "application/vnd.databricks.v1+notebook": {
   "dashboards": [],
   "environmentMetadata": null,
   "language": "python",
   "notebookMetadata": {
    "pythonIndentUnit": 4
   },
   "notebookName": "ML_Egbule_00712602",
   "widgets": {}
  }
 },
 "nbformat": 4,
 "nbformat_minor": 0
}
